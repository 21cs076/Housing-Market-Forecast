{
 "cells": [
  {
   "cell_type": "code",
   "execution_count": 6,
   "metadata": {},
   "outputs": [],
   "source": [
    "# Import necessary libraries\n",
    "import pandas as pd\n",
    "import numpy as np\n",
    "import joblib\n",
    "from sklearn.model_selection import train_test_split\n",
    "from sklearn.preprocessing import LabelEncoder\n",
    "from sklearn.linear_model import LinearRegression\n",
    "from sklearn.ensemble import RandomForestRegressor\n",
    "from sklearn.metrics import mean_squared_error, mean_absolute_error, r2_score\n",
    "from sklearn.impute import SimpleImputer\n",
    "from sklearn.pipeline import Pipeline\n",
    "from sklearn.compose import ColumnTransformer\n",
    "from sklearn.preprocessing import OneHotEncoder"
   ]
  },
  {
   "cell_type": "code",
   "execution_count": 7,
   "metadata": {},
   "outputs": [
    {
     "name": "stdout",
     "output_type": "stream",
     "text": [
      "['Id', 'MSSubClass', 'MSZoning', 'LotFrontage', 'LotArea', 'Street', 'Alley', 'LotShape', 'LandContour', 'Utilities', 'LotConfig', 'LandSlope', 'Neighborhood', 'Condition1', 'Condition2', 'BldgType', 'HouseStyle', 'OverallQual', 'OverallCond', 'YearBuilt', 'YearRemodAdd', 'RoofStyle', 'RoofMatl', 'Exterior1st', 'Exterior2nd', 'MasVnrType', 'MasVnrArea', 'ExterQual', 'ExterCond', 'Foundation', 'BsmtQual', 'BsmtCond', 'BsmtExposure', 'BsmtFinType1', 'BsmtFinSF1', 'BsmtFinType2', 'BsmtFinSF2', 'BsmtUnfSF', 'TotalBsmtSF', 'Heating', 'HeatingQC', 'CentralAir', 'Electrical', '1stFlrSF', '2ndFlrSF', 'LowQualFinSF', 'GrLivArea', 'BsmtFullBath', 'BsmtHalfBath', 'FullBath', 'HalfBath', 'BedroomAbvGr', 'KitchenAbvGr', 'KitchenQual', 'TotRmsAbvGrd', 'Functional', 'Fireplaces', 'FireplaceQu', 'GarageType', 'GarageYrBlt', 'GarageFinish', 'GarageCars', 'GarageArea', 'GarageQual', 'GarageCond', 'PavedDrive', 'WoodDeckSF', 'OpenPorchSF', 'EnclosedPorch', '3SsnPorch', 'ScreenPorch', 'PoolArea', 'PoolQC', 'Fence', 'MiscFeature', 'MiscVal', 'MoSold', 'YrSold', 'SaleType', 'SaleCondition', 'SalePrice']\n"
     ]
    }
   ],
   "source": [
    "# Load the dataset from a local file\n",
    "data = pd.read_csv(r'H:\\Project\\Predicting Housing Prices\\train.csv')\n",
    "\n",
    "# Extract the feature names\n",
    "feature_names = data.columns.tolist()\n",
    "\n",
    "# Print the feature names\n",
    "print(feature_names)\n",
    "\n",
    "# Handle missing values\n",
    "for column in data.columns:\n",
    "    if data[column].dtype == 'object':\n",
    "        data[column].fillna(data[column].mode()[0], inplace=True)\n",
    "    else:\n",
    "        data[column].fillna(data[column].mean(), inplace=True)\n",
    "\n",
    "# Encode categorical variables\n",
    "label_encoders = {}\n",
    "for column in data.select_dtypes(include=['object']).columns:\n",
    "    le = LabelEncoder()\n",
    "    data[column] = le.fit_transform(data[column])\n",
    "    label_encoders[column] = le"
   ]
  },
  {
   "cell_type": "code",
   "execution_count": 8,
   "metadata": {},
   "outputs": [],
   "source": [
    "# Split the data into features and target\n",
    "X = data.drop(columns=['Id', 'SalePrice'])\n",
    "y = data['SalePrice']\n",
    "\n",
    "# Identify categorical and numerical features\n",
    "categorical_features = X.select_dtypes(include=['object']).columns.tolist()\n",
    "numerical_features = X.select_dtypes(exclude=['object']).columns.tolist()\n",
    "\n",
    "# Create a ColumnTransformer to handle the preprocessing\n",
    "preprocessor = ColumnTransformer(\n",
    "    transformers=[\n",
    "        ('num', SimpleImputer(strategy='mean'), numerical_features),\n",
    "        ('cat', OneHotEncoder(handle_unknown='ignore'), categorical_features)\n",
    "    ])\n",
    "\n",
    "# Split the data into training and testing sets\n",
    "X_train, X_test, y_train, y_test = train_test_split(X, y, test_size=0.2, random_state=42)"
   ]
  },
  {
   "cell_type": "code",
   "execution_count": 9,
   "metadata": {},
   "outputs": [
    {
     "name": "stdout",
     "output_type": "stream",
     "text": [
      "Model Evaluation Metrics:\n",
      "Mean Absolute Error (MAE): 21664.454299775047\n",
      "Mean Squared Error (MSE): 1237016951.719737\n",
      "Root Mean Squared Error (RMSE): 35171.251779254846\n",
      "R-squared (R²): 0.8387269435085242\n",
      "Model Evaluation Metrics:\n",
      "Mean Absolute Error (MAE): 17662.150924657537\n",
      "Mean Squared Error (MSE): 831911054.4419894\n",
      "Root Mean Squared Error (RMSE): 28842.86834629991\n",
      "R-squared (R²): 0.891541633045217\n",
      "Number of features the model expects: 79\n"
     ]
    }
   ],
   "source": [
    "# Train regression models\n",
    "models = {\n",
    "    \"Linear Regression\": LinearRegression(),\n",
    "    \"Random Forest\": RandomForestRegressor(n_estimators=100, random_state=42)\n",
    "}\n",
    "\n",
    "for name, model in models.items():\n",
    "    # Create a pipeline with the preprocessor and the model\n",
    "    pipeline = Pipeline(steps=[('preprocessor', preprocessor), ('model', model)])\n",
    "    \n",
    "    # Fit the pipeline on the training data\n",
    "    pipeline.fit(X_train, y_train)\n",
    "    \n",
    "    # Use the pipeline to make predictions\n",
    "    y_pred = pipeline.predict(X_test)\n",
    "    \n",
    "    # Calculate evaluation metrics\n",
    "    mae = mean_absolute_error(y_test, y_pred)\n",
    "    mse = mean_squared_error(y_test, y_pred)\n",
    "    rmse = np.sqrt(mse)\n",
    "    r2 = r2_score(y_test, y_pred)\n",
    "    \n",
    "    # Print the evaluation metrics\n",
    "    print(\"Model Evaluation Metrics:\")\n",
    "    print(f\"Mean Absolute Error (MAE): {mae}\")\n",
    "    print(f\"Mean Squared Error (MSE): {mse}\")\n",
    "    print(f\"Root Mean Squared Error (RMSE): {rmse}\")\n",
    "    print(f\"R-squared (R²): {r2}\")\n",
    "    \n",
    "    # Save the Random Forest model and preprocessor using joblib\n",
    "    if name == \"Random Forest\":\n",
    "        joblib.dump(pipeline, 'model.pkl')\n",
    "        print(\"Number of features the model expects:\", len(X_train.columns))"
   ]
  },
  {
   "cell_type": "code",
   "execution_count": 10,
   "metadata": {},
   "outputs": [
    {
     "name": "stdout",
     "output_type": "stream",
     "text": [
      "Predicted values for the test dataset:\n",
      "[127443.  154004.5 179335.5 ... 156578.  119260.5 225447.8]\n"
     ]
    }
   ],
   "source": [
    "# Load the test dataset\n",
    "test_data = pd.read_csv(r'H:\\Project\\Predicting Housing Prices\\test.csv')\n",
    "\n",
    "# Handle missing values in the test dataset\n",
    "for column in test_data.columns:\n",
    "    if test_data[column].dtype == 'object':\n",
    "        test_data[column].fillna(test_data[column].mode()[0], inplace=True)\n",
    "    else:\n",
    "        test_data[column].fillna(test_data[column].mean(), inplace=True)\n",
    "\n",
    "# Encode categorical variables in the test dataset\n",
    "for column in test_data.select_dtypes(include=['object']).columns:\n",
    "    if column in label_encoders:\n",
    "        le = label_encoders[column]\n",
    "        test_data[column] = le.transform(test_data[column])\n",
    "\n",
    "# Drop the 'Id' column from the test dataset\n",
    "X_test_final = test_data.drop(columns=['Id'])\n",
    "\n",
    "# Load the saved model\n",
    "pipeline = joblib.load('model.pkl')\n",
    "\n",
    "# Make predictions on the test dataset\n",
    "y_pred_test = pipeline.predict(X_test_final)\n",
    "\n",
    "# Print the predicted values\n",
    "print(\"Predicted values for the test dataset:\")\n",
    "print(y_pred_test)"
   ]
  }
 ],
 "metadata": {
  "kernelspec": {
   "display_name": "Python 3",
   "language": "python",
   "name": "python3"
  },
  "language_info": {
   "codemirror_mode": {
    "name": "ipython",
    "version": 3
   },
   "file_extension": ".py",
   "mimetype": "text/x-python",
   "name": "python",
   "nbconvert_exporter": "python",
   "pygments_lexer": "ipython3",
   "version": "3.10.7"
  }
 },
 "nbformat": 4,
 "nbformat_minor": 2
}
